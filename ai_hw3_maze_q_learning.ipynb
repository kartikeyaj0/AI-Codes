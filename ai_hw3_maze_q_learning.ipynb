{
  "nbformat": 4,
  "nbformat_minor": 0,
  "metadata": {
    "colab": {
      "name": "ai_hw3_maze_q_learning.ipynb",
      "provenance": [],
      "collapsed_sections": [],
      "authorship_tag": "ABX9TyPWNV1a/dp2WsKdMIwDmUyi",
      "include_colab_link": true
    },
    "kernelspec": {
      "display_name": "Python 3",
      "name": "python3"
    },
    "language_info": {
      "name": "python"
    }
  },
  "cells": [
    {
      "cell_type": "markdown",
      "metadata": {
        "id": "view-in-github",
        "colab_type": "text"
      },
      "source": [
        "<a href=\"https://colab.research.google.com/github/kartikeyaj0/AI-Codes/blob/master/ai_hw3_maze_q_learning.ipynb\" target=\"_parent\"><img src=\"https://colab.research.google.com/assets/colab-badge.svg\" alt=\"Open In Colab\"/></a>"
      ]
    },
    {
      "cell_type": "markdown",
      "metadata": {
        "id": "PzuBdy9RbET4"
      },
      "source": [
        "In this problem we will try to find optimal policy for the following grid using Q-learning:\n",
        "\n",
        "![AI hw2 grid.jpg](data:image/jpeg;base64,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)\n"
      ]
    },
    {
      "cell_type": "markdown",
      "metadata": {
        "id": "oaCtsws0kVUi"
      },
      "source": [
        "Instead of a 15x15 matrix, we will first solve it for a simplified 4x4 matrix\n",
        "\n",
        "![image.png](data:image/png;base64,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)"
      ]
    },
    {
      "cell_type": "markdown",
      "metadata": {
        "id": "FQ_IgfjB5VGd"
      },
      "source": [
        "We start by importing the necessary python libraries:"
      ]
    },
    {
      "cell_type": "code",
      "metadata": {
        "id": "hVnFj3qflaOl"
      },
      "source": [
        "import collections\n",
        "import math\n",
        "import matplotlib.pyplot as plt\n",
        "import numpy as np\n",
        "import random"
      ],
      "execution_count": 1,
      "outputs": []
    },
    {
      "cell_type": "markdown",
      "metadata": {
        "id": "a_raR-u_5bMM"
      },
      "source": [
        "We now initialize the environment as per the problem statement:"
      ]
    },
    {
      "cell_type": "code",
      "metadata": {
        "id": "hZS6dm2oLnrw"
      },
      "source": [
        "GRID_SIZE = 4\n",
        "grid = [[0] * GRID_SIZE for _ in range(GRID_SIZE)]\n",
        "\n",
        "START = (0, 0)\n",
        "GOAL = (GRID_SIZE - 1, GRID_SIZE - 1)\n",
        "\n",
        "# Action Space\n",
        "A = {\n",
        "    'up': (-1, 0),\n",
        "    'down': (1, 0),\n",
        "    'left': (0, -1),\n",
        "    'right': (0, 1),\n",
        "    # 'stay': (0, 0)\n",
        "}\n",
        "\n",
        "# State Space\n",
        "S = [(x, y) for x in range(GRID_SIZE) for y in range(GRID_SIZE)]\n",
        "\n",
        "# Noise\n",
        "ALPHA = 0.1\n",
        "\n",
        "# ACTION ENUM to map each column in the Q-table to an action\n",
        "A_INDEX = {\n",
        "    'up': 0,\n",
        "    'down': 1,\n",
        "    'left': 2,\n",
        "    'right': 3,\n",
        "    # 'stay': 4,\n",
        "}\n",
        "\n",
        "A_LIST = list(A.keys())\n",
        "EPSILON = 0.2"
      ],
      "execution_count": 2,
      "outputs": []
    },
    {
      "cell_type": "markdown",
      "metadata": {
        "id": "RQLjxEVm5k-r"
      },
      "source": [
        "Our Q-table is a 2D matrix with dimensions as number of states and number of actions. We will be using row-wise indexing scheme for the grid states and use the following function to convert a 2D grid state to 1D:"
      ]
    },
    {
      "cell_type": "code",
      "metadata": {
        "id": "0VKEcaNqlb8D"
      },
      "source": [
        "def s_index(s):\n",
        "    '''This function converts 2D index to 1D using row-wise scheme.\n",
        "    : param s: A 2D grid state\n",
        "    : returns: 1D index using row-wise scheme\n",
        "    '''\n",
        "    return s[0] * GRID_SIZE + s[1]"
      ],
      "execution_count": 3,
      "outputs": []
    },
    {
      "cell_type": "markdown",
      "metadata": {
        "id": "H1U27HED6a3e"
      },
      "source": [
        "We now define a function which detects if our agent hit a wall:"
      ]
    },
    {
      "cell_type": "code",
      "metadata": {
        "id": "Etxj9iq1m6mT"
      },
      "source": [
        "# Simplified 4 x 4\n",
        "def hit_wall(curr, action):\n",
        "    '''This function checks if the agent hits any walls.\n",
        "    : param curr: Current position of the agent\n",
        "    : param action: Chosen action by the agent\n",
        "    : returns: True/False Binary value to indicate if agent hits a wall\n",
        "    '''\n",
        "    x, y = curr\n",
        "\n",
        "    # Check for grid boundaries\n",
        "    if x == 0 and action == 'up':\n",
        "        return True\n",
        "    if x == GRID_SIZE - 1 and action == 'down':\n",
        "        return True\n",
        "    if y == 0 and action == 'left':\n",
        "        return True\n",
        "    if y == GRID_SIZE - 1 and action == 'right':\n",
        "        return True\n",
        "\n",
        "    # The problem statement describes 4 walls in addition to grid boundaries\n",
        "\n",
        "    # 1st horizontal wall after 3 - (0 to 11)\n",
        "    # Going down from (3, (0,11)) is not allowed\n",
        "    # Coming up from (4, (0,11)) is not allowed\n",
        "    if x == 0 and 0 <= y <= 2 and action == 'down':\n",
        "        return True\n",
        "    elif x == 1 and 0 <= y <= 2 and action == 'up':\n",
        "        return True\n",
        "\n",
        "    # 2nd horizontal wall after 7 - (2, 13)\n",
        "    # Going down from (7, (2,13)) is not allowed\n",
        "    # Coming up from (8, (2,13)) is not allowed\n",
        "    if x == 1 and 1 <= y <= 2 and action == 'down':\n",
        "        return True\n",
        "    elif x == 2 and 1 <= y <= 2 and action == 'up':\n",
        "        return True\n",
        "\n",
        "    # 3rd horizontal wall after 11\n",
        "    # Going down from (11, (3,14)) is not allowed\n",
        "    # Coming up from (12, (3,14)) is not allowed\n",
        "    if x == 2 and 2 <= y <= 3 and action == 'down':\n",
        "        return True\n",
        "    elif x == 3 and 2 <= y <= 3 and action == 'up':\n",
        "        return True\n",
        "\n",
        "    # vertical wall 8 to 11\n",
        "    # hit on moving from ((8,11), 1) to ((8,11), 2)\n",
        "    # and viceversa\n",
        "    if y == 0 and x == 2 and action == 'right':\n",
        "        return True\n",
        "    elif y == 1 and x == 2 and action == 'left':\n",
        "        return True\n",
        "\n",
        "    # If no walls hit, return False\n",
        "    return False"
      ],
      "execution_count": 4,
      "outputs": []
    },
    {
      "cell_type": "markdown",
      "metadata": {
        "id": "jhCZ-iOT6jbC"
      },
      "source": [
        "We assume that the environment assigns rewards using the following reward function. Note that this reward function is not visible to the agent, which can only learn from the observation samples."
      ]
    },
    {
      "cell_type": "code",
      "metadata": {
        "id": "415ca8C9m6VM"
      },
      "source": [
        "def R(s, a):\n",
        "    '''Reward function for the agent\n",
        "    : param s: Current state of the agent\n",
        "    : param a: Action the agent takes at the current state\n",
        "    : returns: Reward for the action at current state\n",
        "    '''\n",
        "    if s == GOAL:\n",
        "        return 0\n",
        "    elif hit_wall(s, a):\n",
        "        return -10000\n",
        "    else:\n",
        "        return -1"
      ],
      "execution_count": 5,
      "outputs": []
    },
    {
      "cell_type": "markdown",
      "metadata": {
        "id": "X93ETpDC7aA9"
      },
      "source": [
        "We define a utility function s_next_calc, which calculates the next state given current state and action:"
      ]
    },
    {
      "cell_type": "code",
      "metadata": {
        "id": "vVCLVZ--m1tW"
      },
      "source": [
        "def s_next_calc(s, a):\n",
        "    '''This function returns the agent's next state given action\n",
        "    and current state (assuming the action succeeds).\n",
        "    : param s: Current position of the agent\n",
        "    : param a: Chosen action by the agent\n",
        "    : returns: New state coordinates in the grid\n",
        "    '''\n",
        "    return (s[0] + A[a][0], s[1] + A[a][1])"
      ],
      "execution_count": 6,
      "outputs": []
    },
    {
      "cell_type": "markdown",
      "metadata": {
        "id": "BcIpZIuf8WLK"
      },
      "source": [
        "The agent will use the following function to stochastically perform an action and obtains the next state and the associated reward."
      ]
    },
    {
      "cell_type": "code",
      "metadata": {
        "id": "qrc2ZufSHDsO"
      },
      "source": [
        "def take_step(s, a):\n",
        "    '''This function stochastically performs the action 'a' on the given\n",
        "    state s.\n",
        "    : param s: Current position of the agent\n",
        "    : param a: Chosen action by the agent\n",
        "    : returns: New state coordinates in the grid and the observed reward\n",
        "    '''\n",
        "    # Given curr state s and an action a, return the next state\n",
        "    \n",
        "    action_list = [a]\n",
        "    cum_prob_list = [1 - ALPHA]\n",
        "    for action in A:\n",
        "        if action != a:\n",
        "            action_list.append(action)\n",
        "            cum_prob_list.append(cum_prob_list[-1] + ALPHA/(len(A) - 1))\n",
        "    action_taken = random.choices(action_list, cum_weights = cum_prob_list)[0]\n",
        "    r = R(s, action_taken)\n",
        "    if r == -10000: # hit wall\n",
        "        s_next = s\n",
        "    else:\n",
        "        s_next = s_next_calc(s, action_taken)\n",
        "    return s_next, r\n",
        "    "
      ],
      "execution_count": 7,
      "outputs": []
    },
    {
      "cell_type": "markdown",
      "metadata": {
        "id": "aqVHouDG9nKU"
      },
      "source": [
        "We will use the following function to choose an action for the state from Q using a basic epsilon-greedy implementation:"
      ]
    },
    {
      "cell_type": "code",
      "metadata": {
        "id": "VPJr-vBYjhmR"
      },
      "source": [
        "def choose_action_epsilon(s, episode):\n",
        "    # Using a fixed epsilon value\n",
        "    # TODO(KJ): add a decresing epsilon\n",
        "    if random.uniform(0, 1) < EPSILON/(episode+1):\n",
        "        return random.choice(A_LIST)\n",
        "    return A_LIST[np.argmax(Q[s_index(s)])]\n",
        "    "
      ],
      "execution_count": 32,
      "outputs": []
    },
    {
      "cell_type": "markdown",
      "metadata": {
        "id": "n7CF3Soc-e8j"
      },
      "source": [
        "The agent uses the following function for Q-Learning:"
      ]
    },
    {
      "cell_type": "code",
      "metadata": {
        "id": "_oJnmqbOMRz3"
      },
      "source": [
        "def q_learning(gamma, episodes):\n",
        "    '''This function implements the Q-learning algorithm\n",
        "    : param gamma: Discounting factor\n",
        "    : param episodes: Number of episodes to be run\n",
        "    '''\n",
        "    r_list = []\n",
        "    for episode in range(episodes):\n",
        "        s = START\n",
        "        r_sum = 0\n",
        "        while s != GOAL:\n",
        "            # Choose a random action for the current state s\n",
        "            # a = random.choice(A_LIST)\n",
        "            a = choose_action_epsilon(s, episode)\n",
        "            # Take the random action with a transition error ALPHA\n",
        "            s_next, r = take_step(s, a)\n",
        "            # Update Q table\n",
        "            max_q_next = max(\n",
        "                Q[s_index(s_next)][A_INDEX[action]] for action in A_LIST)\n",
        "            Q[s_index(s)][A_INDEX[a]] = Q[s_index(s)][A_INDEX[a]] + ALPHA * (\n",
        "                r + gamma * max_q_next - Q[s_index(s)][A_INDEX[a]])\n",
        "            s = s_next\n",
        "            r_sum += r\n",
        "            if s == GOAL:\n",
        "                # print('episode {} reached goal state'.format(episode))\n",
        "                break\n",
        "        r_list.append(r_sum)\n",
        "    return r_list\n",
        "\n",
        "#TODO: learning rate should change within an episode. not fixed\n"
      ],
      "execution_count": 33,
      "outputs": []
    },
    {
      "cell_type": "code",
      "metadata": {
        "id": "PSnWfH8NoUgv"
      },
      "source": [
        "def plot_policy_from_qtable(Q):\n",
        "    '''This function plots the policy learned from Q-Learning\n",
        "    : param Q: Q-table\n",
        "    '''\n",
        "    policy = {(r//4, r%4): A_LIST[np.argmax(Q[r])] for r in range(\n",
        "                                                        GRID_SIZE * GRID_SIZE)}\n",
        "    plt.imshow(np.max(Q, axis = 1).reshape(4,4))\n",
        "    quiver_action_dict = {\n",
        "        'up': [0, 1],\n",
        "        'down': [0, -1],\n",
        "        'left': [-1, 0],\n",
        "        'right': [1, 0],\n",
        "        'stay': [0, 0]\n",
        "    }\n",
        "    for k, v in policy.items():\n",
        "        plt.quiver(k[1], k[0],\n",
        "                  quiver_action_dict[v][0], quiver_action_dict[v][1])"
      ],
      "execution_count": 23,
      "outputs": []
    },
    {
      "cell_type": "markdown",
      "metadata": {
        "id": "ezdhp9bupw_S"
      },
      "source": [
        "We can now run the Q-learning algorithm:"
      ]
    },
    {
      "cell_type": "code",
      "metadata": {
        "id": "Jlj6TRhdSw6B",
        "colab": {
          "base_uri": "https://localhost:8080/",
          "height": 269
        },
        "outputId": "2b373e8f-0afd-40f8-d1fa-43f7265bc2c6"
      },
      "source": [
        "# Q - Table\n",
        "Q = [[0] * len(A) for _ in range(GRID_SIZE * GRID_SIZE)]\n",
        "r_list = q_learning(0.9, 500)\n",
        "plot_policy_from_qtable(Q)"
      ],
      "execution_count": 37,
      "outputs": [
        {
          "output_type": "display_data",
          "data": {
            "image/png": "[encoded data removed]",
            "text/plain": [
              "<Figure size 432x288 with 1 Axes>"
            ]
          },
          "metadata": {
            "needs_background": "light"
          }
        }
      ]
    },
    {
      "cell_type": "markdown",
      "metadata": {
        "id": "58U1wLm_qGCI"
      },
      "source": [
        "We can also plot the rewards obtained in each episode as follows."
      ]
    },
    {
      "cell_type": "code",
      "metadata": {
        "colab": {
          "base_uri": "https://localhost:8080/",
          "height": 295
        },
        "id": "nhR5k3JU81l5",
        "outputId": "00f7b407-71b9-4f53-92a6-75ab3f204bfa"
      },
      "source": [
        "plt.plot(range(500), r_list)"
      ],
      "execution_count": 39,
      "outputs": [
        {
          "output_type": "execute_result",
          "data": {
            "text/plain": [
              "[<matplotlib.lines.Line2D at 0x7f967a526e50>]"
            ]
          },
          "metadata": {},
          "execution_count": 39
        },
        {
          "output_type": "display_data",
          "data": {
            "image/png": "[encoded data removed]",
            "text/plain": [
              "<Figure size 432x288 with 1 Axes>"
            ]
          },
          "metadata": {
            "needs_background": "light"
          }
        }
      ]
    },
    {
      "cell_type": "markdown",
      "metadata": {
        "id": "GP1dgz_3qS_A"
      },
      "source": [
        "We can see the rewards start improving after the first few iterations and tend to reach an asymptote near 0. Due to the stochastic nature of the problem, we will collect the rewards for 5 runs and plot them together to see any underlying patterns."
      ]
    },
    {
      "cell_type": "code",
      "metadata": {
        "colab": {
          "base_uri": "https://localhost:8080/",
          "height": 276
        },
        "id": "E5HNzJn4T7WD",
        "outputId": "f0cb3314-bf70-4ee3-8035-08e269cb5c4f"
      },
      "source": [
        "# Q - Table\n",
        "for i in range(5):\n",
        "    Q = [[0] * len(A) for _ in range(GRID_SIZE * GRID_SIZE)]\n",
        "    plt.plot(range(500), q_learning(0.9, 500), label=i)\n",
        "plt.legend()\n",
        "plt.show()"
      ],
      "execution_count": 43,
      "outputs": [
        {
          "output_type": "display_data",
          "data": {
            "image/png": "[encoded data removed]",
            "text/plain": [
              "<Figure size 432x288 with 1 Axes>"
            ]
          },
          "metadata": {
            "needs_background": "light"
          }
        }
      ]
    },
    {
      "cell_type": "markdown",
      "metadata": {
        "id": "C2lPNxg_tWJv"
      },
      "source": [
        "We see the common pattern that the rewards are initially bad, but as the number of episodes increases, the agent gets better and the reward reach an asymptote."
      ]
    }
  ]
}